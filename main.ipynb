{
 "cells": [
  {
   "cell_type": "code",
   "execution_count": 1,
   "metadata": {
    "colab": {
     "base_uri": "https://localhost:8080/"
    },
    "id": "YOJX0DgDx8hB",
    "outputId": "dda5372f-243c-4420-fd96-bb5dd8601bad"
   },
   "outputs": [
    {
     "name": "stdout",
     "output_type": "stream",
     "text": [
      "Requirement already satisfied: opencv-python in c:\\python312\\lib\\site-packages (4.11.0.86)Note: you may need to restart the kernel to use updated packages.\n"
     ]
    },
    {
     "name": "stderr",
     "output_type": "stream",
     "text": [
      "WARNING: Ignoring invalid distribution ~ (c:\\Python312\\Lib\\site-packages)\n",
      "WARNING: Ignoring invalid distribution ~-p (c:\\Python312\\Lib\\site-packages)\n",
      "WARNING: Ignoring invalid distribution ~ip (c:\\Python312\\Lib\\site-packages)\n",
      "WARNING: Ignoring invalid distribution ~~p (c:\\Python312\\Lib\\site-packages)\n",
      "WARNING: Ignoring invalid distribution ~ (c:\\Python312\\Lib\\site-packages)\n",
      "WARNING: Ignoring invalid distribution ~-p (c:\\Python312\\Lib\\site-packages)\n",
      "WARNING: Ignoring invalid distribution ~ip (c:\\Python312\\Lib\\site-packages)\n",
      "WARNING: Ignoring invalid distribution ~~p (c:\\Python312\\Lib\\site-packages)\n",
      "WARNING: Ignoring invalid distribution ~ (c:\\Python312\\Lib\\site-packages)\n",
      "WARNING: Ignoring invalid distribution ~-p (c:\\Python312\\Lib\\site-packages)\n",
      "WARNING: Ignoring invalid distribution ~ip (c:\\Python312\\Lib\\site-packages)\n",
      "WARNING: Ignoring invalid distribution ~~p (c:\\Python312\\Lib\\site-packages)\n"
     ]
    },
    {
     "name": "stdout",
     "output_type": "stream",
     "text": [
      "\n",
      "Requirement already satisfied: numpy>=1.21.2 in c:\\users\\piotr\\appdata\\roaming\\python\\python312\\site-packages (from opencv-python) (2.2.4)\n"
     ]
    }
   ],
   "source": [
    "%pip install opencv-python"
   ]
  },
  {
   "cell_type": "code",
   "execution_count": 2,
   "metadata": {
    "colab": {
     "base_uri": "https://localhost:8080/"
    },
    "id": "ILdOn71szEeZ",
    "outputId": "14223085-d703-4eef-c684-739ef70fac3b"
   },
   "outputs": [
    {
     "name": "stdout",
     "output_type": "stream",
     "text": [
      "Requirement already satisfied: lpips in c:\\users\\piotr\\appdata\\roaming\\python\\python312\\site-packages (0.1.4)\n",
      "Requirement already satisfied: torch>=0.4.0 in c:\\users\\piotr\\appdata\\roaming\\python\\python312\\site-packages (from lpips) (2.6.0)\n",
      "Requirement already satisfied: torchvision>=0.2.1 in c:\\users\\piotr\\appdata\\roaming\\python\\python312\\site-packages (from lpips) (0.21.0)\n",
      "Requirement already satisfied: numpy>=1.14.3 in c:\\users\\piotr\\appdata\\roaming\\python\\python312\\site-packages (from lpips) (2.2.4)\n",
      "Requirement already satisfied: scipy>=1.0.1 in c:\\users\\piotr\\appdata\\roaming\\python\\python312\\site-packages (from lpips) (1.15.2)\n",
      "Requirement already satisfied: tqdm>=4.28.1 in c:\\python312\\lib\\site-packages (from lpips) (4.67.1)\n",
      "Requirement already satisfied: filelock in c:\\users\\piotr\\appdata\\roaming\\python\\python312\\site-packages (from torch>=0.4.0->lpips) (3.18.0)\n",
      "Requirement already satisfied: typing-extensions>=4.10.0 in c:\\python312\\lib\\site-packages (from torch>=0.4.0->lpips) (4.13.2)\n",
      "Requirement already satisfied: networkx in c:\\users\\piotr\\appdata\\roaming\\python\\python312\\site-packages (from torch>=0.4.0->lpips) (3.4.2)\n",
      "Requirement already satisfied: jinja2 in c:\\users\\piotr\\appdata\\roaming\\python\\python312\\site-packages (from torch>=0.4.0->lpips) (3.1.6)\n",
      "Requirement already satisfied: fsspec in c:\\users\\piotr\\appdata\\roaming\\python\\python312\\site-packages (from torch>=0.4.0->lpips) (2025.3.2)\n",
      "Requirement already satisfied: setuptools in c:\\users\\piotr\\appdata\\roaming\\python\\python312\\site-packages (from torch>=0.4.0->lpips) (78.1.0)\n",
      "Requirement already satisfied: sympy==1.13.1 in c:\\users\\piotr\\appdata\\roaming\\python\\python312\\site-packages (from torch>=0.4.0->lpips) (1.13.1)\n",
      "Requirement already satisfied: mpmath<1.4,>=1.1.0 in c:\\python312\\lib\\site-packages (from sympy==1.13.1->torch>=0.4.0->lpips) (1.3.0)\n",
      "Requirement already satisfied: pillow!=8.3.*,>=5.3.0 in c:\\users\\piotr\\appdata\\roaming\\python\\python312\\site-packages (from torchvision>=0.2.1->lpips) (11.2.1)\n",
      "Requirement already satisfied: colorama in c:\\users\\piotr\\appdata\\roaming\\python\\python312\\site-packages (from tqdm>=4.28.1->lpips) (0.4.6)\n",
      "Requirement already satisfied: MarkupSafe>=2.0 in c:\\users\\piotr\\appdata\\roaming\\python\\python312\\site-packages (from jinja2->torch>=0.4.0->lpips) (3.0.2)\n",
      "Note: you may need to restart the kernel to use updated packages.\n"
     ]
    },
    {
     "name": "stderr",
     "output_type": "stream",
     "text": [
      "WARNING: Ignoring invalid distribution ~ (c:\\Python312\\Lib\\site-packages)\n",
      "WARNING: Ignoring invalid distribution ~-p (c:\\Python312\\Lib\\site-packages)\n",
      "WARNING: Ignoring invalid distribution ~ip (c:\\Python312\\Lib\\site-packages)\n",
      "WARNING: Ignoring invalid distribution ~~p (c:\\Python312\\Lib\\site-packages)\n",
      "WARNING: Ignoring invalid distribution ~ (c:\\Python312\\Lib\\site-packages)\n",
      "WARNING: Ignoring invalid distribution ~-p (c:\\Python312\\Lib\\site-packages)\n",
      "WARNING: Ignoring invalid distribution ~ip (c:\\Python312\\Lib\\site-packages)\n",
      "WARNING: Ignoring invalid distribution ~~p (c:\\Python312\\Lib\\site-packages)\n",
      "WARNING: Ignoring invalid distribution ~ (c:\\Python312\\Lib\\site-packages)\n",
      "WARNING: Ignoring invalid distribution ~-p (c:\\Python312\\Lib\\site-packages)\n",
      "WARNING: Ignoring invalid distribution ~ip (c:\\Python312\\Lib\\site-packages)\n",
      "WARNING: Ignoring invalid distribution ~~p (c:\\Python312\\Lib\\site-packages)\n"
     ]
    }
   ],
   "source": [
    "%pip install lpips"
   ]
  },
  {
   "cell_type": "code",
   "execution_count": 3,
   "metadata": {
    "colab": {
     "base_uri": "https://localhost:8080/"
    },
    "id": "6Qv4g9Uc1Ebp",
    "outputId": "ef73c77a-1922-42da-dbc0-5381d55689ce"
   },
   "outputs": [
    {
     "name": "stdout",
     "output_type": "stream",
     "text": [
      "Python 3.12.4\n"
     ]
    }
   ],
   "source": [
    "!python --version"
   ]
  },
  {
   "cell_type": "code",
   "execution_count": 4,
   "metadata": {
    "id": "349oYEkK1REA"
   },
   "outputs": [],
   "source": [
    "import cv2\n",
    "\n",
    "import torch\n",
    "import numpy as np\n",
    "\n",
    "import os"
   ]
  },
  {
   "cell_type": "markdown",
   "metadata": {
    "id": "ZqByUCQUI-Yi"
   },
   "source": [
    "## Metrics set-up"
   ]
  },
  {
   "cell_type": "code",
   "execution_count": 5,
   "metadata": {
    "colab": {
     "base_uri": "https://localhost:8080/"
    },
    "id": "XxX2MjVxJe10",
    "outputId": "621c23ae-57f8-42b3-b337-f73e044b1b97"
   },
   "outputs": [
    {
     "name": "stdout",
     "output_type": "stream",
     "text": [
      "Requirement already satisfied: SSIM-PIL in c:\\python312\\lib\\site-packages (1.0.14)\n",
      "Note: you may need to restart the kernel to use updated packages.\n"
     ]
    },
    {
     "name": "stderr",
     "output_type": "stream",
     "text": [
      "WARNING: Ignoring invalid distribution ~ (c:\\Python312\\Lib\\site-packages)\n",
      "WARNING: Ignoring invalid distribution ~-p (c:\\Python312\\Lib\\site-packages)\n",
      "WARNING: Ignoring invalid distribution ~ip (c:\\Python312\\Lib\\site-packages)\n",
      "WARNING: Ignoring invalid distribution ~~p (c:\\Python312\\Lib\\site-packages)\n",
      "WARNING: Ignoring invalid distribution ~ (c:\\Python312\\Lib\\site-packages)\n",
      "WARNING: Ignoring invalid distribution ~-p (c:\\Python312\\Lib\\site-packages)\n",
      "WARNING: Ignoring invalid distribution ~ip (c:\\Python312\\Lib\\site-packages)\n",
      "WARNING: Ignoring invalid distribution ~~p (c:\\Python312\\Lib\\site-packages)\n",
      "WARNING: Ignoring invalid distribution ~ (c:\\Python312\\Lib\\site-packages)\n",
      "WARNING: Ignoring invalid distribution ~-p (c:\\Python312\\Lib\\site-packages)\n",
      "WARNING: Ignoring invalid distribution ~ip (c:\\Python312\\Lib\\site-packages)\n",
      "WARNING: Ignoring invalid distribution ~~p (c:\\Python312\\Lib\\site-packages)\n"
     ]
    }
   ],
   "source": [
    "%pip install SSIM-PIL"
   ]
  },
  {
   "cell_type": "code",
   "execution_count": 6,
   "metadata": {},
   "outputs": [
    {
     "name": "stdout",
     "output_type": "stream",
     "text": [
      "Requirement already satisfied: torchmetrics in c:\\python312\\lib\\site-packages (1.7.1)\n",
      "Requirement already satisfied: numpy>1.20.0 in c:\\users\\piotr\\appdata\\roaming\\python\\python312\\site-packages (from torchmetrics) (2.2.4)\n",
      "Requirement already satisfied: packaging>17.1 in c:\\users\\piotr\\appdata\\roaming\\python\\python312\\site-packages (from torchmetrics) (24.2)\n",
      "Requirement already satisfied: torch>=2.0.0 in c:\\users\\piotr\\appdata\\roaming\\python\\python312\\site-packages (from torchmetrics) (2.6.0)\n",
      "Requirement already satisfied: lightning-utilities>=0.8.0 in c:\\python312\\lib\\site-packages (from torchmetrics) (0.14.3)\n",
      "Requirement already satisfied: setuptools in c:\\users\\piotr\\appdata\\roaming\\python\\python312\\site-packages (from lightning-utilities>=0.8.0->torchmetrics) (78.1.0)\n",
      "Requirement already satisfied: typing_extensions in c:\\python312\\lib\\site-packages (from lightning-utilities>=0.8.0->torchmetrics) (4.13.2)\n",
      "Requirement already satisfied: filelock in c:\\users\\piotr\\appdata\\roaming\\python\\python312\\site-packages (from torch>=2.0.0->torchmetrics) (3.18.0)\n",
      "Requirement already satisfied: networkx in c:\\users\\piotr\\appdata\\roaming\\python\\python312\\site-packages (from torch>=2.0.0->torchmetrics) (3.4.2)\n",
      "Requirement already satisfied: jinja2 in c:\\users\\piotr\\appdata\\roaming\\python\\python312\\site-packages (from torch>=2.0.0->torchmetrics) (3.1.6)\n",
      "Requirement already satisfied: fsspec in c:\\users\\piotr\\appdata\\roaming\\python\\python312\\site-packages (from torch>=2.0.0->torchmetrics) (2025.3.2)\n",
      "Requirement already satisfied: sympy==1.13.1 in c:\\users\\piotr\\appdata\\roaming\\python\\python312\\site-packages (from torch>=2.0.0->torchmetrics) (1.13.1)\n",
      "Requirement already satisfied: mpmath<1.4,>=1.1.0 in c:\\python312\\lib\\site-packages (from sympy==1.13.1->torch>=2.0.0->torchmetrics) (1.3.0)\n",
      "Requirement already satisfied: MarkupSafe>=2.0 in c:\\users\\piotr\\appdata\\roaming\\python\\python312\\site-packages (from jinja2->torch>=2.0.0->torchmetrics) (3.0.2)\n",
      "Note: you may need to restart the kernel to use updated packages.\n"
     ]
    },
    {
     "name": "stderr",
     "output_type": "stream",
     "text": [
      "WARNING: Ignoring invalid distribution ~ (c:\\Python312\\Lib\\site-packages)\n",
      "WARNING: Ignoring invalid distribution ~-p (c:\\Python312\\Lib\\site-packages)\n",
      "WARNING: Ignoring invalid distribution ~ip (c:\\Python312\\Lib\\site-packages)\n",
      "WARNING: Ignoring invalid distribution ~~p (c:\\Python312\\Lib\\site-packages)\n",
      "WARNING: Ignoring invalid distribution ~ (c:\\Python312\\Lib\\site-packages)\n",
      "WARNING: Ignoring invalid distribution ~-p (c:\\Python312\\Lib\\site-packages)\n",
      "WARNING: Ignoring invalid distribution ~ip (c:\\Python312\\Lib\\site-packages)\n",
      "WARNING: Ignoring invalid distribution ~~p (c:\\Python312\\Lib\\site-packages)\n",
      "WARNING: Ignoring invalid distribution ~ (c:\\Python312\\Lib\\site-packages)\n",
      "WARNING: Ignoring invalid distribution ~-p (c:\\Python312\\Lib\\site-packages)\n",
      "WARNING: Ignoring invalid distribution ~ip (c:\\Python312\\Lib\\site-packages)\n",
      "WARNING: Ignoring invalid distribution ~~p (c:\\Python312\\Lib\\site-packages)\n"
     ]
    }
   ],
   "source": [
    "%pip install torchmetrics"
   ]
  },
  {
   "cell_type": "code",
   "execution_count": 7,
   "metadata": {},
   "outputs": [
    {
     "name": "stdout",
     "output_type": "stream",
     "text": [
      "Requirement already satisfied: sewar in c:\\python312\\lib\\site-packages (0.4.6)\n",
      "Requirement already satisfied: numpy in c:\\users\\piotr\\appdata\\roaming\\python\\python312\\site-packages (from sewar) (2.2.4)\n",
      "Requirement already satisfied: scipy in c:\\users\\piotr\\appdata\\roaming\\python\\python312\\site-packages (from sewar) (1.15.2)\n",
      "Requirement already satisfied: Pillow in c:\\users\\piotr\\appdata\\roaming\\python\\python312\\site-packages (from sewar) (11.2.1)\n",
      "Note: you may need to restart the kernel to use updated packages.\n"
     ]
    },
    {
     "name": "stderr",
     "output_type": "stream",
     "text": [
      "WARNING: Ignoring invalid distribution ~ (c:\\Python312\\Lib\\site-packages)\n",
      "WARNING: Ignoring invalid distribution ~-p (c:\\Python312\\Lib\\site-packages)\n",
      "WARNING: Ignoring invalid distribution ~ip (c:\\Python312\\Lib\\site-packages)\n",
      "WARNING: Ignoring invalid distribution ~~p (c:\\Python312\\Lib\\site-packages)\n",
      "WARNING: Ignoring invalid distribution ~ (c:\\Python312\\Lib\\site-packages)\n",
      "WARNING: Ignoring invalid distribution ~-p (c:\\Python312\\Lib\\site-packages)\n",
      "WARNING: Ignoring invalid distribution ~ip (c:\\Python312\\Lib\\site-packages)\n",
      "WARNING: Ignoring invalid distribution ~~p (c:\\Python312\\Lib\\site-packages)\n",
      "WARNING: Ignoring invalid distribution ~ (c:\\Python312\\Lib\\site-packages)\n",
      "WARNING: Ignoring invalid distribution ~-p (c:\\Python312\\Lib\\site-packages)\n",
      "WARNING: Ignoring invalid distribution ~ip (c:\\Python312\\Lib\\site-packages)\n",
      "WARNING: Ignoring invalid distribution ~~p (c:\\Python312\\Lib\\site-packages)\n"
     ]
    }
   ],
   "source": [
    "%pip install sewar"
   ]
  },
  {
   "cell_type": "code",
   "execution_count": 8,
   "metadata": {
    "id": "g0kT9u9eIU7D"
   },
   "outputs": [],
   "source": [
    "from scipy import signal\n",
    "\n",
    "# code from https://github.com/BiswarupDebnath/SSIM-Map-calculation-of-an-image-in-Python/blob/master/ssim_map.py\n",
    "def cal_ssim(img1, img2):\n",
    "\n",
    "    K = [0.01, 0.03]\n",
    "    L = 255\n",
    "    kernelX = cv2.getGaussianKernel(11, 1.5)\n",
    "    window = kernelX * kernelX.T\n",
    "\n",
    "    M,N = np.shape(img1)\n",
    "\n",
    "    C1 = (K[0]*L)**2\n",
    "    C2 = (K[1]*L)**2\n",
    "    img1 = np.float64(img1)\n",
    "    img2 = np.float64(img2)\n",
    "\n",
    "    mu1 = signal.convolve2d(img1, window, 'valid')\n",
    "    mu2 = signal.convolve2d(img2, window, 'valid')\n",
    "\n",
    "    mu1_sq = mu1*mu1\n",
    "    mu2_sq = mu2*mu2\n",
    "    mu1_mu2 = mu1*mu2\n",
    "\n",
    "\n",
    "    sigma1_sq = signal.convolve2d(img1*img1, window, 'valid') - mu1_sq\n",
    "    sigma2_sq = signal.convolve2d(img2*img2, window, 'valid') - mu2_sq\n",
    "    sigma12 = signal.convolve2d(img1*img2, window, 'valid') - mu1_mu2\n",
    "\n",
    "    ssim_map = ((2*mu1_mu2 + C1)*(2*sigma12 + C2))/((mu1_sq + mu2_sq + C1)*(sigma1_sq + sigma2_sq + C2))\n",
    "    mssim = np.mean(ssim_map)\n",
    "    return mssim,ssim_map"
   ]
  },
  {
   "cell_type": "markdown",
   "metadata": {
    "id": "lAd85uFxLibG"
   },
   "source": [
    "### Image loading as required by different libraries"
   ]
  },
  {
   "cell_type": "code",
   "execution_count": 9,
   "metadata": {
    "id": "vwhu5-62K1sm"
   },
   "outputs": [],
   "source": [
    "from PIL import Image\n",
    "\n",
    "def load_openCV_format(image_path):\n",
    "    img = cv2.imread(image_path)\n",
    "    if img is None:\n",
    "        raise ValueError(\"Image could not be loaded.\")\n",
    "    # img = cv2.resize(img, size) # images must be of the same size to be compared for eg ssim\n",
    "    return img\n",
    "\n",
    "\n",
    "def load_pil_object_img(image_path):\n",
    "    return Image.open(image_path)\n"
   ]
  },
  {
   "cell_type": "code",
   "execution_count": 10,
   "metadata": {
    "id": "DbZX7AzXKoSQ"
   },
   "outputs": [
    {
     "name": "stderr",
     "output_type": "stream",
     "text": [
      "c:\\Python312\\Lib\\site-packages\\pyopencl\\cache.py:496: CompilerWarning: Non-empty compiler output encountered. Set the environment variable PYOPENCL_COMPILER_OUTPUT=1 to see more.\n",
      "  _create_built_program_from_source_cached(\n"
     ]
    }
   ],
   "source": [
    "from skimage.metrics import structural_similarity as ssim_sklearn\n",
    "import lpips\n",
    "from SSIM_PIL import compare_ssim\n",
    "from torchmetrics.image import UniversalImageQualityIndex\n",
    "from torchmetrics.image import VisualInformationFidelity\n",
    "from sewar import uqi, vifp, ssim\n",
    "\n",
    "\n",
    "\n",
    "def get_scores(reference_img_path, distorted_img_path):\n",
    "    ref_img = load_openCV_format(reference_img_path)\n",
    "    distorted_img = load_openCV_format(distorted_img_path)\n",
    "\n",
    "    # ssim_github_code_score = cal_ssim(cv2.cvtColor(ref_img, cv2.COLOR_BGR2RGB), cv2.cvtColor(distorted_img, cv2.COLOR_BGR2RGB))\n",
    "\n",
    "    # ref_gray = cv2.cvtColor(ref_img, cv2.COLOR_BGR2GRAY) \n",
    "    # distorted_gray = cv2.cvtColor(distorted_img, cv2.COLOR_BGR2GRAY)\n",
    "\n",
    "    ssim_sklearn_score, _ = ssim_sklearn(ref_img, distorted_img, full=True, channel_axis=2)\n",
    "    psnr_score = cv2.PSNR(ref_img, distorted_img) \n",
    "\n",
    "    \n",
    "    normalized_ref_img = (ref_img.astype(np.float32) / 127.5) - 1.0 \n",
    "    normalized_distorted_img = (distorted_img.astype(np.float32) / 127.5) - 1.0\n",
    "\n",
    "    tensor_ref_img = torch.from_numpy(normalized_ref_img).permute(2, 0, 1)\n",
    "    tensor_distorted_img = torch.from_numpy(normalized_distorted_img).permute(2, 0, 1)\n",
    "\n",
    "    loss_fn_alex = lpips.LPIPS(net='alex')\n",
    "    lpips_score = loss_fn_alex(tensor_ref_img, tensor_distorted_img).item()\n",
    "\n",
    "    uiqi_torch = UniversalImageQualityIndex()\n",
    "    uiqi_torch_score = uiqi_torch(tensor_ref_img.expand(1,-1,-1,-1), tensor_distorted_img.expand(1,-1,-1,-1))\n",
    "\n",
    "    vif_torch = VisualInformationFidelity()\n",
    "    vif_torch_score = vif_torch(tensor_ref_img.expand(1,-1,-1,-1), tensor_distorted_img.expand(1,-1,-1,-1))\n",
    "\n",
    "\n",
    "    # sewar lib \n",
    "    pil_ref_img = load_pil_object_img(reference_img_path)\n",
    "    pil_distorted_img = load_pil_object_img(distorted_img_path)\n",
    "\n",
    "    ref_yc = np.array(pil_ref_img.convert('YCbCr'))\n",
    "    distorted_yc = np.array(pil_distorted_img.convert('YCbCr'))\n",
    "\n",
    "    uiqi_sewar_score = uqi(ref_yc, distorted_yc)\n",
    "    ssim_sewar_score = ssim(ref_yc, distorted_yc)\n",
    "    vifp_sewar_score = vifp(ref_yc, distorted_yc)\n",
    "\n",
    "    ssim_pil = compare_ssim(pil_ref_img, pil_distorted_img)\n",
    "\n",
    "    \n",
    "\n",
    "    return ssim_sklearn_score,ssim_sewar_score, ssim_pil, psnr_score, lpips_score, uiqi_torch_score.item(), vif_torch_score.item(), uiqi_sewar_score, vifp_sewar_score\n",
    "\n",
    "\n",
    "    \n"
   ]
  },
  {
   "cell_type": "code",
   "execution_count": 11,
   "metadata": {},
   "outputs": [
    {
     "name": "stdout",
     "output_type": "stream",
     "text": [
      "Requirement already satisfied: pandas in c:\\python312\\lib\\site-packages (2.2.2)\n",
      "Requirement already satisfied: numpy>=1.26.0 in c:\\users\\piotr\\appdata\\roaming\\python\\python312\\site-packages (from pandas) (2.2.4)\n",
      "Requirement already satisfied: python-dateutil>=2.8.2 in c:\\python312\\lib\\site-packages (from pandas) (2.9.0.post0)\n",
      "Requirement already satisfied: pytz>=2020.1 in c:\\python312\\lib\\site-packages (from pandas) (2024.2)\n",
      "Requirement already satisfied: tzdata>=2022.7 in c:\\python312\\lib\\site-packages (from pandas) (2024.1)\n",
      "Requirement already satisfied: six>=1.5 in c:\\python312\\lib\\site-packages (from python-dateutil>=2.8.2->pandas) (1.16.0)\n",
      "Note: you may need to restart the kernel to use updated packages.\n"
     ]
    },
    {
     "name": "stderr",
     "output_type": "stream",
     "text": [
      "WARNING: Ignoring invalid distribution ~ (c:\\Python312\\Lib\\site-packages)\n",
      "WARNING: Ignoring invalid distribution ~-p (c:\\Python312\\Lib\\site-packages)\n",
      "WARNING: Ignoring invalid distribution ~ip (c:\\Python312\\Lib\\site-packages)\n",
      "WARNING: Ignoring invalid distribution ~~p (c:\\Python312\\Lib\\site-packages)\n",
      "WARNING: Ignoring invalid distribution ~ (c:\\Python312\\Lib\\site-packages)\n",
      "WARNING: Ignoring invalid distribution ~-p (c:\\Python312\\Lib\\site-packages)\n",
      "WARNING: Ignoring invalid distribution ~ip (c:\\Python312\\Lib\\site-packages)\n",
      "WARNING: Ignoring invalid distribution ~~p (c:\\Python312\\Lib\\site-packages)\n",
      "WARNING: Ignoring invalid distribution ~ (c:\\Python312\\Lib\\site-packages)\n",
      "WARNING: Ignoring invalid distribution ~-p (c:\\Python312\\Lib\\site-packages)\n",
      "WARNING: Ignoring invalid distribution ~ip (c:\\Python312\\Lib\\site-packages)\n",
      "WARNING: Ignoring invalid distribution ~~p (c:\\Python312\\Lib\\site-packages)\n"
     ]
    },
    {
     "name": "stdout",
     "output_type": "stream",
     "text": [
      "Requirement already satisfied: openpyxl in c:\\python312\\lib\\site-packages (3.1.5)\n",
      "Requirement already satisfied: et-xmlfile in c:\\python312\\lib\\site-packages (from openpyxl) (2.0.0)\n",
      "Note: you may need to restart the kernel to use updated packages.\n"
     ]
    },
    {
     "name": "stderr",
     "output_type": "stream",
     "text": [
      "WARNING: Ignoring invalid distribution ~ (c:\\Python312\\Lib\\site-packages)\n",
      "WARNING: Ignoring invalid distribution ~-p (c:\\Python312\\Lib\\site-packages)\n",
      "WARNING: Ignoring invalid distribution ~ip (c:\\Python312\\Lib\\site-packages)\n",
      "WARNING: Ignoring invalid distribution ~~p (c:\\Python312\\Lib\\site-packages)\n",
      "WARNING: Ignoring invalid distribution ~ (c:\\Python312\\Lib\\site-packages)\n",
      "WARNING: Ignoring invalid distribution ~-p (c:\\Python312\\Lib\\site-packages)\n",
      "WARNING: Ignoring invalid distribution ~ip (c:\\Python312\\Lib\\site-packages)\n",
      "WARNING: Ignoring invalid distribution ~~p (c:\\Python312\\Lib\\site-packages)\n",
      "WARNING: Ignoring invalid distribution ~ (c:\\Python312\\Lib\\site-packages)\n",
      "WARNING: Ignoring invalid distribution ~-p (c:\\Python312\\Lib\\site-packages)\n",
      "WARNING: Ignoring invalid distribution ~ip (c:\\Python312\\Lib\\site-packages)\n",
      "WARNING: Ignoring invalid distribution ~~p (c:\\Python312\\Lib\\site-packages)\n"
     ]
    }
   ],
   "source": [
    "%pip install pandas \n",
    "%pip install openpyxl"
   ]
  },
  {
   "cell_type": "code",
   "execution_count": 12,
   "metadata": {},
   "outputs": [],
   "source": [
    "import os\n",
    "import pandas as pd\n",
    "\n",
    "def save_results(results, path):\n",
    "    root_name = os.path.basename(os.path.normpath(path))\n",
    "    filename = f\"{root_name}.xlsx\"\n",
    "    column_names = [\n",
    "        \"ssim_sklearn_score\", \"ssim_sewar_score\", \"ssim_pil\", \"psnr_score\", \"lpips_score\",\n",
    "        \"uiqi_torch_score\", \"vif_torch_score\", \"uiqi_sewar_score\", \"vifp_sewar_score\"\n",
    "    ]\n",
    "\n",
    "    with pd.ExcelWriter(filename, engine='openpyxl') as writer:\n",
    "        for subfolder_name, result_list in results:\n",
    "            # Ensure each result is a list (in case it’s a tuple or other type)\n",
    "            df = pd.DataFrame([list(scores) for scores in result_list], columns=column_names)\n",
    "            df.to_excel(writer, sheet_name=subfolder_name[:31], index=False)  # Excel sheet names max 31 chars\n",
    "\n",
    "    print(f\"Results saved to {filename}\")"
   ]
  },
  {
   "cell_type": "code",
   "execution_count": 13,
   "metadata": {},
   "outputs": [],
   "source": [
    "def parse_images(root_path):\n",
    "    subfolders = [f.path for f in os.scandir(root_path) if f.is_dir()]\n",
    "    results = []\n",
    "    for subfolder in subfolders:\n",
    "        subfolder_name = os.path.basename(subfolder)\n",
    "        image_paths = [os.path.join(subfolder, fname) for fname in os.listdir(subfolder)]\n",
    "\n",
    "        subfolder_results = []\n",
    "        for i in range(len(image_paths)):\n",
    "            scores = get_scores(image_paths[0], image_paths[i])\n",
    "            subfolder_results.append(scores)\n",
    "        results.append((subfolder_name, subfolder_results))\n",
    "\n",
    "    save_results(results, root_path)\n",
    "        "
   ]
  },
  {
   "cell_type": "code",
   "execution_count": 14,
   "metadata": {},
   "outputs": [
    {
     "name": "stdout",
     "output_type": "stream",
     "text": [
      "Setting up [LPIPS] perceptual loss: trunk [alex], v[0.1], spatial [off]\n"
     ]
    },
    {
     "name": "stderr",
     "output_type": "stream",
     "text": [
      "C:\\Users\\piotr\\AppData\\Roaming\\Python\\Python312\\site-packages\\torchvision\\models\\_utils.py:208: UserWarning: The parameter 'pretrained' is deprecated since 0.13 and may be removed in the future, please use 'weights' instead.\n",
      "  warnings.warn(\n",
      "C:\\Users\\piotr\\AppData\\Roaming\\Python\\Python312\\site-packages\\torchvision\\models\\_utils.py:223: UserWarning: Arguments other than a weight enum or `None` for 'weights' are deprecated since 0.13 and may be removed in the future. The current behavior is equivalent to passing `weights=AlexNet_Weights.IMAGENET1K_V1`. You can also use `weights=AlexNet_Weights.DEFAULT` to get the most up-to-date weights.\n",
      "  warnings.warn(msg)\n"
     ]
    },
    {
     "name": "stdout",
     "output_type": "stream",
     "text": [
      "Loading model from: C:\\Users\\piotr\\AppData\\Roaming\\Python\\Python312\\site-packages\\lpips\\weights\\v0.1\\alex.pth\n",
      "(np.float64(0.12952294418603907), (np.float64(0.646707449310005), np.float64(0.6477909385615072)), np.float32(0.13061553), 15.3074458157371, 0.42474567890167236, 0.005599730648100376, 0.02949672006070614, np.float64(0.9777349890404293), np.float64(0.05249949081500604))\n"
     ]
    }
   ],
   "source": [
    "img1 = 'image_1st_in_sequence.jpg'\n",
    "img2 = 'image_2nd_in_sequence.jpg'\n",
    "\n",
    "print(get_scores(img1, img2))"
   ]
  },
  {
   "cell_type": "code",
   "execution_count": 15,
   "metadata": {},
   "outputs": [
    {
     "name": "stdout",
     "output_type": "stream",
     "text": [
      "Setting up [LPIPS] perceptual loss: trunk [alex], v[0.1], spatial [off]\n",
      "Loading model from: C:\\Users\\piotr\\AppData\\Roaming\\Python\\Python312\\site-packages\\lpips\\weights\\v0.1\\alex.pth\n",
      "Setting up [LPIPS] perceptual loss: trunk [alex], v[0.1], spatial [off]\n",
      "Loading model from: C:\\Users\\piotr\\AppData\\Roaming\\Python\\Python312\\site-packages\\lpips\\weights\\v0.1\\alex.pth\n",
      "Setting up [LPIPS] perceptual loss: trunk [alex], v[0.1], spatial [off]\n",
      "Loading model from: C:\\Users\\piotr\\AppData\\Roaming\\Python\\Python312\\site-packages\\lpips\\weights\\v0.1\\alex.pth\n",
      "Setting up [LPIPS] perceptual loss: trunk [alex], v[0.1], spatial [off]\n",
      "Loading model from: C:\\Users\\piotr\\AppData\\Roaming\\Python\\Python312\\site-packages\\lpips\\weights\\v0.1\\alex.pth\n",
      "Setting up [LPIPS] perceptual loss: trunk [alex], v[0.1], spatial [off]\n",
      "Loading model from: C:\\Users\\piotr\\AppData\\Roaming\\Python\\Python312\\site-packages\\lpips\\weights\\v0.1\\alex.pth\n",
      "Setting up [LPIPS] perceptual loss: trunk [alex], v[0.1], spatial [off]\n",
      "Loading model from: C:\\Users\\piotr\\AppData\\Roaming\\Python\\Python312\\site-packages\\lpips\\weights\\v0.1\\alex.pth\n",
      "Setting up [LPIPS] perceptual loss: trunk [alex], v[0.1], spatial [off]\n",
      "Loading model from: C:\\Users\\piotr\\AppData\\Roaming\\Python\\Python312\\site-packages\\lpips\\weights\\v0.1\\alex.pth\n",
      "Setting up [LPIPS] perceptual loss: trunk [alex], v[0.1], spatial [off]\n",
      "Loading model from: C:\\Users\\piotr\\AppData\\Roaming\\Python\\Python312\\site-packages\\lpips\\weights\\v0.1\\alex.pth\n",
      "Setting up [LPIPS] perceptual loss: trunk [alex], v[0.1], spatial [off]\n",
      "Loading model from: C:\\Users\\piotr\\AppData\\Roaming\\Python\\Python312\\site-packages\\lpips\\weights\\v0.1\\alex.pth\n",
      "Setting up [LPIPS] perceptual loss: trunk [alex], v[0.1], spatial [off]\n",
      "Loading model from: C:\\Users\\piotr\\AppData\\Roaming\\Python\\Python312\\site-packages\\lpips\\weights\\v0.1\\alex.pth\n",
      "Results saved to Wall.xlsx\n"
     ]
    }
   ],
   "source": [
    "root_folder_path = 'C:/Users/piotr/Desktop/Projekt Wkiro/image_similarity-main-v2/Photos_small/Wall'\n",
    "results = parse_images(root_folder_path)"
   ]
  }
 ],
 "metadata": {
  "colab": {
   "provenance": []
  },
  "kernelspec": {
   "display_name": "Python 3",
   "language": "python",
   "name": "python3"
  },
  "language_info": {
   "codemirror_mode": {
    "name": "ipython",
    "version": 3
   },
   "file_extension": ".py",
   "mimetype": "text/x-python",
   "name": "python",
   "nbconvert_exporter": "python",
   "pygments_lexer": "ipython3",
   "version": "3.12.4"
  }
 },
 "nbformat": 4,
 "nbformat_minor": 4
}
