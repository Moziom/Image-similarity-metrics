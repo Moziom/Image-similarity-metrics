{
 "cells": [
  {
   "cell_type": "code",
   "execution_count": null,
   "id": "initial_id",
   "metadata": {
    "collapsed": true
   },
   "outputs": [],
   "source": [
    "import os\n",
    "import cv2\n",
    "import csv\n",
    "import torchvision.transforms as transforms\n",
    "import numpy as np\n",
    "from skimage.metrics import structural_similarity as ssim_skimage\n",
    "from sewar import ssim as ssim_sewar\n",
    "from SSIM_PIL import compare_ssim as ssim_pil\n",
    "from PIL import Image\n",
    "from skimage.metrics import peak_signal_noise_ratio as psnr_skimage\n",
    "from sewar.full_ref import psnr as psnr_sewar\n",
    "import lpips\n",
    "import matplotlib.pyplot as plt\n",
    "import pandas as pd\n"
   ]
  },
  {
   "metadata": {},
   "cell_type": "code",
   "outputs": [],
   "execution_count": null,
   "source": [
    "def load_images(reference_dir, distorted_dir):\n",
    "    reference_images = []\n",
    "    distorted_images = [[None for _ in range(24)] for _ in range(25)]\n",
    "\n",
    "    # Load reference images: I01.BMP to I25.BMP\n",
    "    for i in range(1, 26):\n",
    "        filename = f\"I{i:02}.BMP\"\n",
    "        path = os.path.join(reference_dir, filename)\n",
    "        img = cv2.imread(path)\n",
    "        reference_images.append(img)\n",
    "\n",
    "    # Load distorted images: i01_01_5.bmp to i25_24_5.bmp\n",
    "    for x in range(1, 26):      # x = 01 to 25\n",
    "        for y in range(1, 25):  # y = 01 to 24\n",
    "            filename = f\"i{x:02}_{y:02}_5.bmp\"\n",
    "            path = os.path.join(distorted_dir, filename)\n",
    "            img = cv2.imread(path)\n",
    "            distorted_images[x - 1][y - 1] = img\n",
    "\n",
    "    return reference_images, distorted_images"
   ],
   "id": "7eeb64cacff7afa4"
  },
  {
   "metadata": {},
   "cell_type": "code",
   "outputs": [],
   "execution_count": null,
   "source": [
    "def compute_ssim_metrics(refs, dists):\n",
    "    results = []\n",
    "\n",
    "    for i in range(25):  # image ID 0–24\n",
    "        for j in range(24):  # distortion ID 0–23\n",
    "            print(f\"{i} {j}\")\n",
    "            ref_cv = refs[i]\n",
    "            dist_cv = dists[i][j]\n",
    "\n",
    "            # Convert to RGB for skimage and sewar\n",
    "            ref_rgb = cv2.cvtColor(ref_cv, cv2.COLOR_BGR2RGB)\n",
    "            dist_rgb = cv2.cvtColor(dist_cv, cv2.COLOR_BGR2RGB)\n",
    "\n",
    "            # Convert to PIL for SSIM_PIL\n",
    "            ref_pil = Image.fromarray(ref_rgb)\n",
    "            dist_pil = Image.fromarray(dist_rgb)\n",
    "\n",
    "            # SSIM with skimage\n",
    "            ssim1, _ = ssim_skimage(ref_rgb, dist_rgb, full=True, channel_axis=2)\n",
    "\n",
    "            # SSIM with sewar\n",
    "            ssim2 = ssim_sewar(ref_rgb, dist_rgb)[0]\n",
    "\n",
    "            # SSIM with SSIM_PIL\n",
    "            ssim3 = ssim_pil(ref_pil, dist_pil)\n",
    "\n",
    "            results.append([\n",
    "                f\"{i+1:02}\", f\"{j+1:02}\", round(ssim1, 6), round(ssim2, 6), round(ssim3, 6)\n",
    "            ])\n",
    "    return results"
   ],
   "id": "eef655882637c00e"
  },
  {
   "metadata": {},
   "cell_type": "code",
   "outputs": [],
   "execution_count": null,
   "source": [
    "def psnr_manual(img1, img2, max_pixel=255.0):\n",
    "    mse = np.mean((img1 - img2) ** 2)\n",
    "    return float('inf') if mse == 0 else 20 * np.log10(max_pixel / np.sqrt(mse))"
   ],
   "id": "fa87e8d59569cb69"
  },
  {
   "metadata": {},
   "cell_type": "code",
   "outputs": [],
   "execution_count": null,
   "source": [
    "def compute_psnr_metrics(refs, dists):\n",
    "    results = []\n",
    "\n",
    "    for i in range(25):  # image ID 0–24\n",
    "        for j in range(24):  # distortion ID 0–23\n",
    "            print(f\"{i} {j}\")\n",
    "            ref_cv = refs[i]\n",
    "            dist_cv = dists[i][j]\n",
    "\n",
    "            psnr_ski = psnr_skimage(ref_cv, dist_cv, data_range=255)\n",
    "            psnr_sew = psnr_sewar(ref_cv, dist_cv)\n",
    "            psnr_man = psnr_manual(ref_cv, dist_cv)\n",
    "\n",
    "            results.append([\n",
    "                f\"{i+1:02}\", f\"{j+1:02}\", round(psnr_ski, 6), round(psnr_sew, 6), round(psnr_man, 6)\n",
    "            ])\n",
    "    return results"
   ],
   "id": "393773e35e81190e"
  },
  {
   "metadata": {},
   "cell_type": "code",
   "outputs": [],
   "execution_count": null,
   "source": [
    "def transform(img):\n",
    "    # If the image is a numpy array, convert it to PIL Image\n",
    "    if isinstance(img, np.ndarray):\n",
    "        img = Image.fromarray(img)\n",
    "\n",
    "    return transforms.Compose([\n",
    "        transforms.Resize(256),\n",
    "        transforms.ToTensor(),\n",
    "        transforms.Normalize((0.5, 0.5, 0.5), (0.5, 0.5, 0.5))\n",
    "    ])(img)"
   ],
   "id": "200b8ddd56c6337a"
  },
  {
   "metadata": {},
   "cell_type": "code",
   "outputs": [],
   "execution_count": null,
   "source": [
    "def compute_lpips_metrics(refs, dists):\n",
    "    results = []\n",
    "\n",
    "    lpips_vgg = lpips.LPIPS(net='vgg')\n",
    "    lpips_alex = lpips.LPIPS(net='alex')\n",
    "    lpips_squeeze = lpips.LPIPS(net='squeeze')\n",
    "\n",
    "    for i in range(25):  # image ID 0–24\n",
    "        for j in range(24):  # distortion ID 0–23\n",
    "            print(f\"{i} {j}\")\n",
    "            ref_cv = refs[i]\n",
    "            dist_cv = dists[i][j]\n",
    "\n",
    "            ref_tensor = transform(ref_cv).unsqueeze(0)\n",
    "            dist_tensor = transform(dist_cv).unsqueeze(0)\n",
    "\n",
    "            lpips_vgg_value = lpips_vgg(ref_tensor, dist_tensor).item()\n",
    "            lpips_alex_value = lpips_alex(ref_tensor, dist_tensor).item()\n",
    "            lpips_squeeze_value = lpips_squeeze(ref_tensor, dist_tensor).item()\n",
    "\n",
    "            results.append([\n",
    "                f\"{i+1:02}\", f\"{j+1:02}\", round(lpips_vgg_value, 6), round(lpips_alex_value, 6), round(lpips_squeeze_value, 6)\n",
    "            ])\n",
    "    return results"
   ],
   "id": "b49bd086b1cffb39"
  },
  {
   "metadata": {},
   "cell_type": "code",
   "outputs": [],
   "execution_count": null,
   "source": [
    "def save_to_csv(results, filename, col1, col2, col3):\n",
    "    with open(filename, mode='w', newline='') as file:\n",
    "        writer = csv.writer(file)\n",
    "        writer.writerow(['image_id', 'distortion_id', col1, col2, col3])\n",
    "        writer.writerows(results)"
   ],
   "id": "318b133541c5e1e1"
  },
  {
   "metadata": {},
   "cell_type": "code",
   "outputs": [],
   "execution_count": null,
   "source": [
    "ref_dir = \"reference_images\"\n",
    "dist_dir = \"distorted_images\""
   ],
   "id": "70cf47f9aab6ba49"
  },
  {
   "metadata": {},
   "cell_type": "code",
   "outputs": [],
   "execution_count": null,
   "source": [
    "refs, dists = load_images(ref_dir, dist_dir)\n",
    "ssim_results = compute_ssim_metrics(refs, dists)\n",
    "psnr_results = compute_psnr_metrics(refs, dists)\n",
    "lpip_results = compute_lpips_metrics(refs, dists)\n",
    "save_to_csv(lpip_results, \"lpip_results.csv\", 'lpip_vgg', 'lpip_alex', 'lpip_squeeze')\n",
    "save_to_csv(psnr_results, \"psnr_results.csv\", 'psnr_skimage', 'psnr_sewar', 'psnr_manual')\n",
    "save_to_csv(ssim_results, \"ssim_results.csv\", 'ssim_skimage', 'ssim_sewar', 'ssim_pil')"
   ],
   "id": "afc3a8a6904e4d85"
  },
  {
   "metadata": {},
   "cell_type": "code",
   "outputs": [],
   "execution_count": null,
   "source": [
    "def create_charts(method, column1, column2, column3):\n",
    "    df = pd.read_csv(f\"{method}_results.csv\")\n",
    "    # Convert image_id and distortion_id to integers for sorting\n",
    "    df[\"image_id\"] = df[\"image_id\"].astype(int)\n",
    "    df[\"distortion_id\"] = df[\"distortion_id\"].astype(int)\n",
    "\n",
    "    # Create output folder for charts\n",
    "    os.makedirs(f\"charts_{method}\", exist_ok=True)\n",
    "\n",
    "    # Plot for each image_id\n",
    "    for image_id in sorted(df[\"image_id\"].unique()):\n",
    "        image_df = df[df[\"image_id\"] == image_id].sort_values(\"distortion_id\")\n",
    "\n",
    "        x = image_df[\"distortion_id\"]\n",
    "        width = 0.25\n",
    "\n",
    "        plt.figure(figsize=(14, 6))\n",
    "        plt.bar(x - width, image_df[column1], width=width, label=\"vgg\", align=\"center\")\n",
    "        plt.bar(x, image_df[column2], width=width, label=\"alex\", align=\"center\")\n",
    "        plt.bar(x + width, image_df[column3], width=width, label=\"squeeze\", align=\"center\")\n",
    "\n",
    "        plt.xlabel(\"Distortion ID\")\n",
    "        plt.ylabel(f\"{method} Value\")\n",
    "        plt.title(f\"{method} Comparison for Image {image_id:02}\")\n",
    "        plt.xticks(ticks=x)\n",
    "        plt.ylim(0, 1)\n",
    "        plt.legend()\n",
    "        plt.tight_layout()\n",
    "\n",
    "        # Save chart to file\n",
    "        plt.savefig(f\"charts_{method}/image_{image_id:02}_{method}_bar_chart.png\")\n",
    "        plt.close()"
   ],
   "id": "df44ac9ad7a92b1"
  },
  {
   "metadata": {
    "ExecuteTime": {
     "end_time": "2025-05-21T13:00:47.221439Z",
     "start_time": "2025-05-21T13:00:46.734363Z"
    }
   },
   "cell_type": "code",
   "source": [
    "create_charts(\"lpip\", \"psnr_skimage\", \"psnr_sewar\", \"psnr_manual\")\n",
    "create_charts(\"ssim\", \"ssim_skimage\", \"ssim_sewar\", \"ssim_pil\")\n",
    "create_charts(\"lpip\", \"lpip_vgg\", \"lpip_alex\", \"lpip_squeeze\")"
   ],
   "id": "2a4cc3de0eca17ff",
   "outputs": [
    {
     "ename": "NameError",
     "evalue": "name 'create_charts' is not defined",
     "output_type": "error",
     "traceback": [
      "\u001B[31m---------------------------------------------------------------------------\u001B[39m",
      "\u001B[31mNameError\u001B[39m                                 Traceback (most recent call last)",
      "\u001B[36mCell\u001B[39m\u001B[36m \u001B[39m\u001B[32mIn[2]\u001B[39m\u001B[32m, line 1\u001B[39m\n\u001B[32m----> \u001B[39m\u001B[32m1\u001B[39m \u001B[43mcreate_charts\u001B[49m(\u001B[33m\"\u001B[39m\u001B[33mlpip\u001B[39m\u001B[33m\"\u001B[39m, \u001B[33m\"\u001B[39m\u001B[33mpsnr_skimage\u001B[39m\u001B[33m\"\u001B[39m, \u001B[33m\"\u001B[39m\u001B[33mpsnr_sewar\u001B[39m\u001B[33m\"\u001B[39m, \u001B[33m\"\u001B[39m\u001B[33mpsnr_manual\u001B[39m\u001B[33m\"\u001B[39m)\n\u001B[32m      2\u001B[39m create_charts(\u001B[33m\"\u001B[39m\u001B[33mssim\u001B[39m\u001B[33m\"\u001B[39m, \u001B[33m\"\u001B[39m\u001B[33mssim_skimage\u001B[39m\u001B[33m\"\u001B[39m, \u001B[33m\"\u001B[39m\u001B[33mssim_sewar\u001B[39m\u001B[33m\"\u001B[39m, \u001B[33m\"\u001B[39m\u001B[33mssim_pil\u001B[39m\u001B[33m\"\u001B[39m)\n\u001B[32m      3\u001B[39m create_charts(\u001B[33m\"\u001B[39m\u001B[33mlpip\u001B[39m\u001B[33m\"\u001B[39m, \u001B[33m\"\u001B[39m\u001B[33mlpip_vgg\u001B[39m\u001B[33m\"\u001B[39m, \u001B[33m\"\u001B[39m\u001B[33mlpip_alex\u001B[39m\u001B[33m\"\u001B[39m, \u001B[33m\"\u001B[39m\u001B[33mlpip_squeeze\u001B[39m\u001B[33m\"\u001B[39m)\n",
      "\u001B[31mNameError\u001B[39m: name 'create_charts' is not defined"
     ]
    }
   ],
   "execution_count": 2
  }
 ],
 "metadata": {
  "kernelspec": {
   "display_name": "Python 3",
   "language": "python",
   "name": "python3"
  },
  "language_info": {
   "codemirror_mode": {
    "name": "ipython",
    "version": 2
   },
   "file_extension": ".py",
   "mimetype": "text/x-python",
   "name": "python",
   "nbconvert_exporter": "python",
   "pygments_lexer": "ipython2",
   "version": "2.7.6"
  }
 },
 "nbformat": 4,
 "nbformat_minor": 5
}
